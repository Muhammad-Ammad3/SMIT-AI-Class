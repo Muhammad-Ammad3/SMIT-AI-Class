{
 "cells": [
  {
   "cell_type": "code",
   "execution_count": null,
   "id": "95df05cb",
   "metadata": {},
   "outputs": [],
   "source": [
    "class Restaurant:\n",
    "    def __init__(self, restaurant_name, cuisine_type):\n",
    "        self.restaurant_name = restaurant_name\n",
    "        self.cuisine_type = cuisine_type\n",
    "        self.number_served = 0\n",
    "\n",
    "    def describe_restaurant(self):\n",
    "        print(f\"Restaurant Name: {self.restaurant_name}\")\n",
    "        print(f\"Cuisine Type: {self.cuisine_type}\")\n",
    "\n",
    "    def open_restaurant(self):\n",
    "        print(f\"{self.restaurant_name} is now open!\")\n",
    "\n",
    "    def increment_number_served(self, number):\n",
    "        self.number_served += number\n",
    "        print(f\"Number of customers served: {self.number_served}\")"
   ]
  },
  {
   "cell_type": "code",
   "execution_count": 17,
   "id": "cfd8c458",
   "metadata": {},
   "outputs": [],
   "source": [
    "my_restaurant = Restaurant(\"Food Paradise\", \"Italian\")"
   ]
  },
  {
   "cell_type": "code",
   "execution_count": 1,
   "id": "3fd8f038",
   "metadata": {},
   "outputs": [
    {
     "ename": "NameError",
     "evalue": "name 'my_restaurant' is not defined",
     "output_type": "error",
     "traceback": [
      "\u001b[31m---------------------------------------------------------------------------\u001b[39m",
      "\u001b[31mNameError\u001b[39m                                 Traceback (most recent call last)",
      "\u001b[36mCell\u001b[39m\u001b[36m \u001b[39m\u001b[32mIn[1]\u001b[39m\u001b[32m, line 1\u001b[39m\n\u001b[32m----> \u001b[39m\u001b[32m1\u001b[39m \u001b[38;5;28mprint\u001b[39m(\u001b[43mmy_restaurant\u001b[49m.number_served)\n",
      "\u001b[31mNameError\u001b[39m: name 'my_restaurant' is not defined"
     ]
    }
   ],
   "source": [
    "print(my_restaurant.number_served)"
   ]
  },
  {
   "cell_type": "code",
   "execution_count": null,
   "id": "815ddd0d",
   "metadata": {},
   "outputs": [],
   "source": []
  }
 ],
 "metadata": {
  "kernelspec": {
   "display_name": "Python 3",
   "language": "python",
   "name": "python3"
  },
  "language_info": {
   "codemirror_mode": {
    "name": "ipython",
    "version": 3
   },
   "file_extension": ".py",
   "mimetype": "text/x-python",
   "name": "python",
   "nbconvert_exporter": "python",
   "pygments_lexer": "ipython3",
   "version": "3.13.5"
  }
 },
 "nbformat": 4,
 "nbformat_minor": 5
}
