{
 "cells": [
  {
   "cell_type": "code",
   "execution_count": 4,
   "id": "4eea04bf",
   "metadata": {},
   "outputs": [],
   "source": [
    "class Person:\n",
    "    def __init__(self,name , age , country):\n",
    "        self.name = name\n",
    "        self.age =age\n",
    "        self.country =country\n",
    "\n",
    "    def display_info(self):\n",
    "            print(f\"my name is {self.name}.I am {self.age} years old, i live in {self.country}\")\n",
    "\n",
    "    "
   ]
  },
  {
   "cell_type": "code",
   "execution_count": 5,
   "id": "702f0731",
   "metadata": {},
   "outputs": [],
   "source": [
    "Ammad= Person(\"kashan\", 20 , \"Pakistan\")"
   ]
  },
  {
   "cell_type": "code",
   "execution_count": 6,
   "id": "2c53a734",
   "metadata": {},
   "outputs": [
    {
     "name": "stdout",
     "output_type": "stream",
     "text": [
      "my name is kashan.I am 20 years old, i live in Pakistan\n"
     ]
    }
   ],
   "source": [
    "Ammad.display_info()"
   ]
  },
  {
   "cell_type": "code",
   "execution_count": 14,
   "id": "4d6e879c",
   "metadata": {},
   "outputs": [],
   "source": [
    "class Rectangle:\n",
    "    def __init__(self, width , height):\n",
    "        self.width = width\n",
    "        self.height = height\n",
    "        \n",
    "    def area_cal(self):\n",
    "            area = self.width * self.height\n",
    "            return area\n",
    "    def perimeter(self):\n",
    "        perimeter = self.width * self.height\n",
    "        return perimeter"
   ]
  },
  {
   "cell_type": "code",
   "execution_count": 15,
   "id": "88131ac8",
   "metadata": {},
   "outputs": [],
   "source": [
    "Ractangular = Rectangle(9,6)"
   ]
  },
  {
   "cell_type": "code",
   "execution_count": 16,
   "id": "ca9d863b",
   "metadata": {},
   "outputs": [
    {
     "data": {
      "text/plain": [
       "54"
      ]
     },
     "execution_count": 16,
     "metadata": {},
     "output_type": "execute_result"
    }
   ],
   "source": [
    "Ractangular.area_cal()"
   ]
  },
  {
   "cell_type": "code",
   "execution_count": null,
   "id": "96c66089",
   "metadata": {},
   "outputs": [
    {
     "name": "stdout",
     "output_type": "stream",
     "text": [
      "Number of Doors: 4\n"
     ]
    }
   ],
   "source": [
    "class Vehicle:\n",
    "    def __init__(self, make, model, year):\n",
    "        self.make = make\n",
    "        self.model = model\n",
    "        self.year = year\n",
    "\n",
    "    def display_details(self):\n",
    "        print(f\"Vehicle Make: {self.make}, Model: {self.model}, Year: {self.year}\")\n",
    "class Car(Vehicle):\n",
    "    def __init__(self, make, model, year, doors):\n",
    "        super().__init__(make, model, year)\n",
    "        self.doors = doors\n",
    "\n",
    "    def display_details(self):\n",
    "        super().display_details()\n",
    "        print(f\"Number of Doors: {self.doors}\")\n",
    "my_car = Car(\"Toyota\", \"Corolla\", 2020, 4)\n",
    "my_car.display_details()"
   ]
  },
  {
   "cell_type": "code",
   "execution_count": 19,
   "id": "8ed8bfbf",
   "metadata": {},
   "outputs": [
    {
     "name": "stdout",
     "output_type": "stream",
     "text": [
      "Account Number: 123456789, Balance: 1000\n",
      "Deposited 500. New balance is 1500.\n",
      "Withdrew 200. New balance is 1300.\n"
     ]
    }
   ],
   "source": [
    "class BankAccount:\n",
    "    def __init__(self, account_number, balance):\n",
    "        self.account_number = account_number\n",
    "        self.balance = balance\n",
    "\n",
    "    def deposit(self, amount):\n",
    "        self.balance += amount\n",
    "        print(f\"Deposited {amount}. New balance is {self.balance}.\")\n",
    "\n",
    "    def withdraw(self, amount):\n",
    "        if amount <= self.balance:\n",
    "            self.balance -= amount\n",
    "            print(f\"Withdrew {amount}. New balance is {self.balance}.\")\n",
    "        else:\n",
    "            print(\"Insufficient funds.\")\n",
    "    def display_balance(self):\n",
    "        print(f\"Account Number: {self.account_number}, Balance: {self.balance}\")  \n",
    "account = BankAccount(\"123456789\", 1000)\n",
    "account.display_balance()\n",
    "account.deposit(500)\n",
    "account.withdraw(200)\n",
    "            "
   ]
  },
  {
   "cell_type": "code",
   "execution_count": null,
   "id": "e0f8b3a6",
   "metadata": {},
   "outputs": [],
   "source": []
  }
 ],
 "metadata": {
  "kernelspec": {
   "display_name": "Python 3",
   "language": "python",
   "name": "python3"
  },
  "language_info": {
   "codemirror_mode": {
    "name": "ipython",
    "version": 3
   },
   "file_extension": ".py",
   "mimetype": "text/x-python",
   "name": "python",
   "nbconvert_exporter": "python",
   "pygments_lexer": "ipython3",
   "version": "3.13.5"
  }
 },
 "nbformat": 4,
 "nbformat_minor": 5
}
