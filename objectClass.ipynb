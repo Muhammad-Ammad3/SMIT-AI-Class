{
 "cells": [
  {
   "cell_type": "code",
   "execution_count": null,
   "id": "69992ad4",
   "metadata": {},
   "outputs": [],
   "source": [
    "# OOP (Object-Oriented Programing)\n",
    "\n",
    "# class: \n",
    "# Blueprint , template \n",
    "\n",
    "# object:\n",
    "# Instance of a class"
   ]
  }
 ],
 "metadata": {
  "language_info": {
   "name": "python"
  }
 },
 "nbformat": 4,
 "nbformat_minor": 5
}
